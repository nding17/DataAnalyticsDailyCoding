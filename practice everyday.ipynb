{
 "cells": [
  {
   "cell_type": "markdown",
   "metadata": {},
   "source": [
    "__Problem 43__\n",
    "----\n",
    "Given the table below, called 'orders', write code to show the average revenue by month by channel:"
   ]
  },
  {
   "cell_type": "code",
   "execution_count": 53,
   "metadata": {},
   "outputs": [
    {
     "data": {
      "text/html": [
       "<div>\n",
       "<style scoped>\n",
       "    .dataframe tbody tr th:only-of-type {\n",
       "        vertical-align: middle;\n",
       "    }\n",
       "\n",
       "    .dataframe tbody tr th {\n",
       "        vertical-align: top;\n",
       "    }\n",
       "\n",
       "    .dataframe thead th {\n",
       "        text-align: right;\n",
       "    }\n",
       "</style>\n",
       "<table border=\"1\" class=\"dataframe\">\n",
       "  <thead>\n",
       "    <tr style=\"text-align: right;\">\n",
       "      <th></th>\n",
       "      <th>order_id</th>\n",
       "      <th>channel</th>\n",
       "      <th>date</th>\n",
       "      <th>month</th>\n",
       "      <th>revenue</th>\n",
       "    </tr>\n",
       "  </thead>\n",
       "  <tbody>\n",
       "    <tr>\n",
       "      <th>0</th>\n",
       "      <td>1</td>\n",
       "      <td>Online</td>\n",
       "      <td>2018-09-01</td>\n",
       "      <td>09</td>\n",
       "      <td>100</td>\n",
       "    </tr>\n",
       "    <tr>\n",
       "      <th>1</th>\n",
       "      <td>2</td>\n",
       "      <td>Online</td>\n",
       "      <td>2018-09-03</td>\n",
       "      <td>09</td>\n",
       "      <td>125</td>\n",
       "    </tr>\n",
       "    <tr>\n",
       "      <th>2</th>\n",
       "      <td>3</td>\n",
       "      <td>In_store</td>\n",
       "      <td>2018-10-11</td>\n",
       "      <td>10</td>\n",
       "      <td>200</td>\n",
       "    </tr>\n",
       "    <tr>\n",
       "      <th>3</th>\n",
       "      <td>4</td>\n",
       "      <td>In_store</td>\n",
       "      <td>2018-08-21</td>\n",
       "      <td>08</td>\n",
       "      <td>80</td>\n",
       "    </tr>\n",
       "    <tr>\n",
       "      <th>4</th>\n",
       "      <td>5</td>\n",
       "      <td>Online</td>\n",
       "      <td>2018-08-13</td>\n",
       "      <td>08</td>\n",
       "      <td>200</td>\n",
       "    </tr>\n",
       "    <tr>\n",
       "      <th>5</th>\n",
       "      <td>6</td>\n",
       "      <td>Online</td>\n",
       "      <td>2018-10-29</td>\n",
       "      <td>10</td>\n",
       "      <td>100</td>\n",
       "    </tr>\n",
       "  </tbody>\n",
       "</table>\n",
       "</div>"
      ],
      "text/plain": [
       "   order_id   channel        date month  revenue\n",
       "0         1    Online  2018-09-01    09      100\n",
       "1         2    Online  2018-09-03    09      125\n",
       "2         3  In_store  2018-10-11    10      200\n",
       "3         4  In_store  2018-08-21    08       80\n",
       "4         5    Online  2018-08-13    08      200\n",
       "5         6    Online  2018-10-29    10      100"
      ]
     },
     "execution_count": 53,
     "metadata": {},
     "output_type": "execute_result"
    }
   ],
   "source": [
    "import pandas as pd\n",
    "raw_data = {'order_id': [1,2,3,4,5,6],\n",
    "            'channel': ['Online', 'Online', 'In_store', 'In_store','Online','Online'],\n",
    "            'date': ['2018-09-01', '2018-09-03', '2018-10-11', \"2018-08-21\",\"2018-08-13\",'2018-10-29'],\n",
    "            'month': ['09', '09', '10', '08','08','10'],\n",
    "            'revenue': [100,125,200,80,200,100]}\n",
    "df = pd.DataFrame(raw_data, columns = ['order_id', 'channel', 'date','month', 'revenue'])\n",
    "df"
   ]
  },
  {
   "cell_type": "markdown",
   "metadata": {},
   "source": [
    "Your result should return the following in a structured table:\n",
    "\n",
    "<pre>Month | Channel | Avg. Revenue</pre>\n",
    "\n",
    "_____\n",
    "Solution"
   ]
  },
  {
   "cell_type": "code",
   "execution_count": 2,
   "metadata": {},
   "outputs": [
    {
     "data": {
      "text/html": [
       "<div>\n",
       "<style scoped>\n",
       "    .dataframe tbody tr th:only-of-type {\n",
       "        vertical-align: middle;\n",
       "    }\n",
       "\n",
       "    .dataframe tbody tr th {\n",
       "        vertical-align: top;\n",
       "    }\n",
       "\n",
       "    .dataframe thead th {\n",
       "        text-align: right;\n",
       "    }\n",
       "</style>\n",
       "<table border=\"1\" class=\"dataframe\">\n",
       "  <thead>\n",
       "    <tr style=\"text-align: right;\">\n",
       "      <th></th>\n",
       "      <th>month</th>\n",
       "      <th>channel</th>\n",
       "      <th>avg_revenue</th>\n",
       "    </tr>\n",
       "  </thead>\n",
       "  <tbody>\n",
       "    <tr>\n",
       "      <th>0</th>\n",
       "      <td>08</td>\n",
       "      <td>In_store</td>\n",
       "      <td>80.0</td>\n",
       "    </tr>\n",
       "    <tr>\n",
       "      <th>1</th>\n",
       "      <td>08</td>\n",
       "      <td>Online</td>\n",
       "      <td>200.0</td>\n",
       "    </tr>\n",
       "    <tr>\n",
       "      <th>2</th>\n",
       "      <td>09</td>\n",
       "      <td>Online</td>\n",
       "      <td>112.5</td>\n",
       "    </tr>\n",
       "    <tr>\n",
       "      <th>3</th>\n",
       "      <td>10</td>\n",
       "      <td>In_store</td>\n",
       "      <td>200.0</td>\n",
       "    </tr>\n",
       "    <tr>\n",
       "      <th>4</th>\n",
       "      <td>10</td>\n",
       "      <td>Online</td>\n",
       "      <td>100.0</td>\n",
       "    </tr>\n",
       "  </tbody>\n",
       "</table>\n",
       "</div>"
      ],
      "text/plain": [
       "  month   channel  avg_revenue\n",
       "0    08  In_store         80.0\n",
       "1    08    Online        200.0\n",
       "2    09    Online        112.5\n",
       "3    10  In_store        200.0\n",
       "4    10    Online        100.0"
      ]
     },
     "execution_count": 2,
     "metadata": {},
     "output_type": "execute_result"
    }
   ],
   "source": [
    "df_new = df.groupby(['month', 'channel'])['revenue'].mean().reset_index()\n",
    "df_new.rename(columns={'revenue':'avg_revenue'})"
   ]
  },
  {
   "cell_type": "markdown",
   "metadata": {},
   "source": [
    "Problem 44 \n",
    "-----\n",
    "Suppose you work for a retail company that has a database containing two tables, one called 'orders', and one called 'revenue', as shown below:"
   ]
  },
  {
   "cell_type": "code",
   "execution_count": 20,
   "metadata": {},
   "outputs": [],
   "source": [
    "import sqlite3\n",
    "conn = sqlite3.connect(':memory:')\n",
    "crsr = conn.cursor()\n",
    "\n",
    "def create_table_sql() -> str:\n",
    "    return \"\"\"\n",
    "    CREATE TABLE Orders (\n",
    "    order_id INTEGER,\n",
    "    channel VARCHAR(1024),\n",
    "    date VARCHAR(1024),\n",
    "    month VARCHAR(1024)\n",
    "    );\n",
    "    \n",
    "    CREATE TABLE Revenue (\n",
    "        order_id INTEGER,\n",
    "        revenue INTEGER\n",
    "    );\n",
    "    \"\"\"\n",
    "\n",
    "crsr.executescript(create_table_sql())\n",
    "conn.commit()"
   ]
  },
  {
   "cell_type": "code",
   "execution_count": 21,
   "metadata": {},
   "outputs": [],
   "source": [
    "def insert_data_sql() -> str:\n",
    "    return \"\"\"\n",
    "    INSERT or IGNORE INTO Orders\n",
    "    (order_id, channel, date, month)\n",
    "    VALUES\n",
    "    (1, \"Online\", \"2018-09-01\", \"September\"),\n",
    "    (2, \"Online\", \"2018-09-03\", \"September\"),\n",
    "    (3, \"In_store\", \"2018-10-11\", \"October\"),\n",
    "    (4, \"In_store\", \"2018-08-21\", \"August\"),\n",
    "    (5, \"Online\", \"2018-08-13\", \"August\"),\n",
    "    (6, \"Online\", \"2018-10-29\", \"October\");\n",
    "    \n",
    "    INSERT or IGNORE INTO Revenue\n",
    "    (order_id, revenue)\n",
    "    VALUES\n",
    "    (1, 100),\n",
    "    (2, 125),\n",
    "    (3, 200),\n",
    "    (4, 80),\n",
    "    (5, 200),\n",
    "    (6, 100);\n",
    "    \"\"\"\n",
    "\n",
    "crsr.executescript(insert_data_sql())\n",
    "conn.commit()"
   ]
  },
  {
   "cell_type": "code",
   "execution_count": 50,
   "metadata": {},
   "outputs": [
    {
     "data": {
      "text/html": [
       "<div>\n",
       "<style scoped>\n",
       "    .dataframe tbody tr th:only-of-type {\n",
       "        vertical-align: middle;\n",
       "    }\n",
       "\n",
       "    .dataframe tbody tr th {\n",
       "        vertical-align: top;\n",
       "    }\n",
       "\n",
       "    .dataframe thead th {\n",
       "        text-align: right;\n",
       "    }\n",
       "</style>\n",
       "<table border=\"1\" class=\"dataframe\">\n",
       "  <thead>\n",
       "    <tr style=\"text-align: right;\">\n",
       "      <th></th>\n",
       "      <th>order_id</th>\n",
       "      <th>channel</th>\n",
       "      <th>date</th>\n",
       "      <th>month</th>\n",
       "    </tr>\n",
       "  </thead>\n",
       "  <tbody>\n",
       "    <tr>\n",
       "      <th>0</th>\n",
       "      <td>1</td>\n",
       "      <td>Online</td>\n",
       "      <td>2018-09-01</td>\n",
       "      <td>September</td>\n",
       "    </tr>\n",
       "    <tr>\n",
       "      <th>1</th>\n",
       "      <td>2</td>\n",
       "      <td>Online</td>\n",
       "      <td>2018-09-03</td>\n",
       "      <td>September</td>\n",
       "    </tr>\n",
       "    <tr>\n",
       "      <th>2</th>\n",
       "      <td>3</td>\n",
       "      <td>In_store</td>\n",
       "      <td>2018-10-11</td>\n",
       "      <td>October</td>\n",
       "    </tr>\n",
       "    <tr>\n",
       "      <th>3</th>\n",
       "      <td>4</td>\n",
       "      <td>In_store</td>\n",
       "      <td>2018-08-21</td>\n",
       "      <td>August</td>\n",
       "    </tr>\n",
       "    <tr>\n",
       "      <th>4</th>\n",
       "      <td>5</td>\n",
       "      <td>Online</td>\n",
       "      <td>2018-08-13</td>\n",
       "      <td>August</td>\n",
       "    </tr>\n",
       "    <tr>\n",
       "      <th>5</th>\n",
       "      <td>6</td>\n",
       "      <td>Online</td>\n",
       "      <td>2018-10-29</td>\n",
       "      <td>October</td>\n",
       "    </tr>\n",
       "  </tbody>\n",
       "</table>\n",
       "</div>"
      ],
      "text/plain": [
       "   order_id   channel        date      month\n",
       "0         1    Online  2018-09-01  September\n",
       "1         2    Online  2018-09-03  September\n",
       "2         3  In_store  2018-10-11    October\n",
       "3         4  In_store  2018-08-21     August\n",
       "4         5    Online  2018-08-13     August\n",
       "5         6    Online  2018-10-29    October"
      ]
     },
     "execution_count": 50,
     "metadata": {},
     "output_type": "execute_result"
    }
   ],
   "source": [
    "def grab_order_table() -> str:\n",
    "    return \"\"\"\n",
    "    SELECT *\n",
    "    FROM Orders;\n",
    "    \"\"\"\n",
    "\n",
    "crsr.execute(grab_order_table())\n",
    "orders = crsr.fetchall()\n",
    "\n",
    "pd.DataFrame(orders, columns=['order_id', \n",
    "                              'channel', \n",
    "                              'date', \n",
    "                              'month'])"
   ]
  },
  {
   "cell_type": "code",
   "execution_count": 51,
   "metadata": {},
   "outputs": [
    {
     "data": {
      "text/html": [
       "<div>\n",
       "<style scoped>\n",
       "    .dataframe tbody tr th:only-of-type {\n",
       "        vertical-align: middle;\n",
       "    }\n",
       "\n",
       "    .dataframe tbody tr th {\n",
       "        vertical-align: top;\n",
       "    }\n",
       "\n",
       "    .dataframe thead th {\n",
       "        text-align: right;\n",
       "    }\n",
       "</style>\n",
       "<table border=\"1\" class=\"dataframe\">\n",
       "  <thead>\n",
       "    <tr style=\"text-align: right;\">\n",
       "      <th></th>\n",
       "      <th>order_id</th>\n",
       "      <th>revenue</th>\n",
       "    </tr>\n",
       "  </thead>\n",
       "  <tbody>\n",
       "    <tr>\n",
       "      <th>0</th>\n",
       "      <td>1</td>\n",
       "      <td>100</td>\n",
       "    </tr>\n",
       "    <tr>\n",
       "      <th>1</th>\n",
       "      <td>2</td>\n",
       "      <td>125</td>\n",
       "    </tr>\n",
       "    <tr>\n",
       "      <th>2</th>\n",
       "      <td>3</td>\n",
       "      <td>200</td>\n",
       "    </tr>\n",
       "    <tr>\n",
       "      <th>3</th>\n",
       "      <td>4</td>\n",
       "      <td>80</td>\n",
       "    </tr>\n",
       "    <tr>\n",
       "      <th>4</th>\n",
       "      <td>5</td>\n",
       "      <td>200</td>\n",
       "    </tr>\n",
       "    <tr>\n",
       "      <th>5</th>\n",
       "      <td>6</td>\n",
       "      <td>100</td>\n",
       "    </tr>\n",
       "  </tbody>\n",
       "</table>\n",
       "</div>"
      ],
      "text/plain": [
       "   order_id  revenue\n",
       "0         1      100\n",
       "1         2      125\n",
       "2         3      200\n",
       "3         4       80\n",
       "4         5      200\n",
       "5         6      100"
      ]
     },
     "execution_count": 51,
     "metadata": {},
     "output_type": "execute_result"
    }
   ],
   "source": [
    "def grab_revenue_table() -> str:\n",
    "    return \"\"\"\n",
    "    SELECT *\n",
    "    FROM Revenue;\n",
    "    \"\"\"\n",
    "\n",
    "crsr.execute(grab_revenue_table())\n",
    "revenue = crsr.fetchall()\n",
    "\n",
    "pd.DataFrame(revenue, columns=['order_id', 'revenue'])"
   ]
  },
  {
   "cell_type": "code",
   "execution_count": 53,
   "metadata": {},
   "outputs": [
    {
     "data": {
      "text/html": [
       "<div>\n",
       "<style scoped>\n",
       "    .dataframe tbody tr th:only-of-type {\n",
       "        vertical-align: middle;\n",
       "    }\n",
       "\n",
       "    .dataframe tbody tr th {\n",
       "        vertical-align: top;\n",
       "    }\n",
       "\n",
       "    .dataframe thead th {\n",
       "        text-align: right;\n",
       "    }\n",
       "</style>\n",
       "<table border=\"1\" class=\"dataframe\">\n",
       "  <thead>\n",
       "    <tr style=\"text-align: right;\">\n",
       "      <th></th>\n",
       "      <th>order_id</th>\n",
       "      <th>channel</th>\n",
       "      <th>date</th>\n",
       "      <th>month</th>\n",
       "      <th>revenue</th>\n",
       "    </tr>\n",
       "  </thead>\n",
       "  <tbody>\n",
       "    <tr>\n",
       "      <th>0</th>\n",
       "      <td>1</td>\n",
       "      <td>Online</td>\n",
       "      <td>2018-09-01</td>\n",
       "      <td>09</td>\n",
       "      <td>100</td>\n",
       "    </tr>\n",
       "    <tr>\n",
       "      <th>1</th>\n",
       "      <td>2</td>\n",
       "      <td>Online</td>\n",
       "      <td>2018-09-03</td>\n",
       "      <td>09</td>\n",
       "      <td>125</td>\n",
       "    </tr>\n",
       "    <tr>\n",
       "      <th>2</th>\n",
       "      <td>3</td>\n",
       "      <td>In_store</td>\n",
       "      <td>2018-10-11</td>\n",
       "      <td>10</td>\n",
       "      <td>200</td>\n",
       "    </tr>\n",
       "    <tr>\n",
       "      <th>3</th>\n",
       "      <td>4</td>\n",
       "      <td>In_store</td>\n",
       "      <td>2018-08-21</td>\n",
       "      <td>08</td>\n",
       "      <td>80</td>\n",
       "    </tr>\n",
       "    <tr>\n",
       "      <th>4</th>\n",
       "      <td>5</td>\n",
       "      <td>Online</td>\n",
       "      <td>2018-08-13</td>\n",
       "      <td>08</td>\n",
       "      <td>200</td>\n",
       "    </tr>\n",
       "    <tr>\n",
       "      <th>5</th>\n",
       "      <td>6</td>\n",
       "      <td>Online</td>\n",
       "      <td>2018-10-29</td>\n",
       "      <td>10</td>\n",
       "      <td>100</td>\n",
       "    </tr>\n",
       "  </tbody>\n",
       "</table>\n",
       "</div>"
      ],
      "text/plain": [
       "   order_id   channel        date month  revenue\n",
       "0         1    Online  2018-09-01    09      100\n",
       "1         2    Online  2018-09-03    09      125\n",
       "2         3  In_store  2018-10-11    10      200\n",
       "3         4  In_store  2018-08-21    08       80\n",
       "4         5    Online  2018-08-13    08      200\n",
       "5         6    Online  2018-10-29    10      100"
      ]
     },
     "execution_count": 53,
     "metadata": {},
     "output_type": "execute_result"
    }
   ],
   "source": [
    "import pandas as pd\n",
    "raw_data = {'order_id': [1,2,3,4,5,6],\n",
    "            'channel': ['Online', 'Online', 'In_store', 'In_store','Online','Online'],\n",
    "            'date': ['2018-09-01', '2018-09-03', '2018-10-11', \"2018-08-21\",\"2018-08-13\",'2018-10-29'],\n",
    "            'month': ['09', '09', '10', '08','08','10'],\n",
    "            'revenue': [100,125,200,80,200,100]}\n",
    "df = pd.DataFrame(raw_data, columns = ['order_id', 'channel', 'date','month', 'revenue'])\n",
    "df"
   ]
  },
  {
   "cell_type": "markdown",
   "metadata": {},
   "source": [
    "Your result should return the following in a structured table:\n",
    "\n",
    "<pre>Month | Channel | Avg. Revenue</pre>\n",
    "\n",
    "_____\n",
    "Solution"
   ]
  },
  {
   "cell_type": "code",
   "execution_count": 2,
   "metadata": {},
   "outputs": [
    {
     "data": {
      "text/html": [
       "<div>\n",
       "<style scoped>\n",
       "    .dataframe tbody tr th:only-of-type {\n",
       "        vertical-align: middle;\n",
       "    }\n",
       "\n",
       "    .dataframe tbody tr th {\n",
       "        vertical-align: top;\n",
       "    }\n",
       "\n",
       "    .dataframe thead th {\n",
       "        text-align: right;\n",
       "    }\n",
       "</style>\n",
       "<table border=\"1\" class=\"dataframe\">\n",
       "  <thead>\n",
       "    <tr style=\"text-align: right;\">\n",
       "      <th></th>\n",
       "      <th>month</th>\n",
       "      <th>channel</th>\n",
       "      <th>avg_revenue</th>\n",
       "    </tr>\n",
       "  </thead>\n",
       "  <tbody>\n",
       "    <tr>\n",
       "      <th>0</th>\n",
       "      <td>08</td>\n",
       "      <td>In_store</td>\n",
       "      <td>80.0</td>\n",
       "    </tr>\n",
       "    <tr>\n",
       "      <th>1</th>\n",
       "      <td>08</td>\n",
       "      <td>Online</td>\n",
       "      <td>200.0</td>\n",
       "    </tr>\n",
       "    <tr>\n",
       "      <th>2</th>\n",
       "      <td>09</td>\n",
       "      <td>Online</td>\n",
       "      <td>112.5</td>\n",
       "    </tr>\n",
       "    <tr>\n",
       "      <th>3</th>\n",
       "      <td>10</td>\n",
       "      <td>In_store</td>\n",
       "      <td>200.0</td>\n",
       "    </tr>\n",
       "    <tr>\n",
       "      <th>4</th>\n",
       "      <td>10</td>\n",
       "      <td>Online</td>\n",
       "      <td>100.0</td>\n",
       "    </tr>\n",
       "  </tbody>\n",
       "</table>\n",
       "</div>"
      ],
      "text/plain": [
       "  month   channel  avg_revenue\n",
       "0    08  In_store         80.0\n",
       "1    08    Online        200.0\n",
       "2    09    Online        112.5\n",
       "3    10  In_store        200.0\n",
       "4    10    Online        100.0"
      ]
     },
     "execution_count": 2,
     "metadata": {},
     "output_type": "execute_result"
    }
   ],
   "source": [
    "df_new = df.groupby(['month', 'channel'])['revenue'].mean().reset_index()\n",
    "df_new.rename(columns={'revenue':'avg_revenue'})"
   ]
  },
  {
   "cell_type": "code",
   "execution_count": 52,
   "metadata": {},
   "outputs": [
    {
     "data": {
      "text/html": [
       "<div>\n",
       "<style scoped>\n",
       "    .dataframe tbody tr th:only-of-type {\n",
       "        vertical-align: middle;\n",
       "    }\n",
       "\n",
       "    .dataframe tbody tr th {\n",
       "        vertical-align: top;\n",
       "    }\n",
       "\n",
       "    .dataframe thead th {\n",
       "        text-align: right;\n",
       "    }\n",
       "</style>\n",
       "<table border=\"1\" class=\"dataframe\">\n",
       "  <thead>\n",
       "    <tr style=\"text-align: right;\">\n",
       "      <th></th>\n",
       "      <th>channel</th>\n",
       "      <th>total_revenue</th>\n",
       "    </tr>\n",
       "  </thead>\n",
       "  <tbody>\n",
       "    <tr>\n",
       "      <th>0</th>\n",
       "      <td>In_store</td>\n",
       "      <td>200</td>\n",
       "    </tr>\n",
       "    <tr>\n",
       "      <th>1</th>\n",
       "      <td>Online</td>\n",
       "      <td>325</td>\n",
       "    </tr>\n",
       "  </tbody>\n",
       "</table>\n",
       "</div>"
      ],
      "text/plain": [
       "    channel  total_revenue\n",
       "0  In_store            200\n",
       "1    Online            325"
      ]
     },
     "execution_count": 52,
     "metadata": {},
     "output_type": "execute_result"
    }
   ],
   "source": [
    "def get_sql() -> str:\n",
    "    return \"\"\"\n",
    "    SELECT o.channel,\n",
    "           SUM(r.revenue) AS total_revenue\n",
    "    FROM Orders o\n",
    "    JOIN Revenue r\n",
    "    ON o.order_id = r.order_id\n",
    "    WHERE o.month IN (\"September\", \"October\")\n",
    "    GROUP BY o.channel\n",
    "    \"\"\"\n",
    "crsr.execute(get_sql2())\n",
    "result = crsr.fetchall()\n",
    "pd.DataFrame(result, columns=['channel', 'total_revenue'])"
   ]
  },
  {
   "cell_type": "code",
   "execution_count": null,
   "metadata": {},
   "outputs": [],
   "source": []
  },
  {
   "cell_type": "markdown",
   "metadata": {},
   "source": [
    "Problem 42\n",
    "-----\n",
    "\n",
    "You are given an array containing reviews for a popular iOS app below:\n",
    "\n",
    "reviews = [‘app is good, but forced updates are too frequent‘, ‘love this app, use it daily to log calories', 'free version of this app has way too many ads’, ‘app doesn't load, 0/10’]\n",
    "\n",
    "Your task is to determine sentiment from the review above. To do this you first decide to write code to find the count of individual words across all the reviews -- write this code using Python."
   ]
  },
  {
   "cell_type": "code",
   "execution_count": 1,
   "metadata": {},
   "outputs": [],
   "source": [
    "def word_dist(reviews):\n",
    "    word_count = {}\n",
    "    \n",
    "    for review in reviews:\n",
    "        words = review.split(' ')\n",
    "        for word in words:\n",
    "            if word not in word_count:\n",
    "                word_count[word] = 1\n",
    "            else:\n",
    "                word_count[word] += 1\n",
    "    return word_count"
   ]
  },
  {
   "cell_type": "code",
   "execution_count": 2,
   "metadata": {},
   "outputs": [
    {
     "data": {
      "text/plain": [
       "{'app': 3,\n",
       " 'is': 1,\n",
       " 'good,': 1,\n",
       " 'but': 1,\n",
       " 'forced': 1,\n",
       " 'updates': 1,\n",
       " 'are': 1,\n",
       " 'too': 2,\n",
       " 'frequent': 1,\n",
       " 'love': 1,\n",
       " 'this': 2,\n",
       " 'app,': 1,\n",
       " 'use': 1,\n",
       " 'it': 1,\n",
       " 'daily': 1,\n",
       " 'to': 1,\n",
       " 'log': 1,\n",
       " 'calories': 1,\n",
       " 'free': 1,\n",
       " 'version': 1,\n",
       " 'of': 1,\n",
       " 'has': 1,\n",
       " 'way': 1,\n",
       " 'many': 1,\n",
       " 'ads': 1,\n",
       " \"doesn't\": 1,\n",
       " 'load,': 1,\n",
       " '0/10': 1}"
      ]
     },
     "execution_count": 2,
     "metadata": {},
     "output_type": "execute_result"
    }
   ],
   "source": [
    "reviews = ['app is good, but forced updates are too frequent', \n",
    "           'love this app, use it daily to log calories', \n",
    "           'free version of this app has way too many ads', \n",
    "           \"app doesn't load, 0/10\"]\n",
    "\n",
    "word_dist(reviews)"
   ]
  },
  {
   "cell_type": "markdown",
   "metadata": {},
   "source": [
    "Problem 40\n",
    "----\n",
    "Given the table below, called 'orders', write a SQL query to show the monthly revenue growth. To calculate the monthly revenue growth, you can apply the following logic:\n",
    "\n",
    "revenue growth = (current month's revenue-prior month's revenue)/prior month's revenue.\n",
    "\n"
   ]
  },
  {
   "cell_type": "code",
   "execution_count": 48,
   "metadata": {},
   "outputs": [],
   "source": [
    "import sqlite3\n",
    "conn = sqlite3.connect(':memory:')\n",
    "crsr = conn.cursor()\n",
    "\n",
    "def create_table_sql() -> str:\n",
    "    return \"\"\"\n",
    "    CREATE TABLE Orders (\n",
    "    order_id INTEGER,\n",
    "    channel VARCHAR(1024),\n",
    "    date VARCHAR(1024),\n",
    "    month INTEGER,\n",
    "    revenue FLOAT\n",
    "    );\n",
    "    \"\"\"\n",
    "\n",
    "crsr.executescript(create_table_sql())\n",
    "conn.commit()"
   ]
  },
  {
   "cell_type": "code",
   "execution_count": 49,
   "metadata": {},
   "outputs": [],
   "source": [
    "def insert_data_sql() -> str:\n",
    "    return \"\"\"\n",
    "    INSERT or IGNORE INTO Orders\n",
    "    (order_id, channel, date, month, revenue)\n",
    "    VALUES\n",
    "    (1, \"Online\", \"2018-09-01\", 9, 100),\n",
    "    (2, \"Online\", \"2018-09-03\", 9, 125),\n",
    "    (3, \"In_store\", \"2018-10-11\", 10, 200),\n",
    "    (4, \"In_store\", \"2018-08-21\", 8, 80),\n",
    "    (5, \"Online\", \"2018-08-13\", 8, 200);\n",
    "    \"\"\"\n",
    "\n",
    "crsr.executescript(insert_data_sql())\n",
    "conn.commit()"
   ]
  },
  {
   "cell_type": "code",
   "execution_count": 55,
   "metadata": {},
   "outputs": [
    {
     "data": {
      "text/html": [
       "<div>\n",
       "<style scoped>\n",
       "    .dataframe tbody tr th:only-of-type {\n",
       "        vertical-align: middle;\n",
       "    }\n",
       "\n",
       "    .dataframe tbody tr th {\n",
       "        vertical-align: top;\n",
       "    }\n",
       "\n",
       "    .dataframe thead th {\n",
       "        text-align: right;\n",
       "    }\n",
       "</style>\n",
       "<table border=\"1\" class=\"dataframe\">\n",
       "  <thead>\n",
       "    <tr style=\"text-align: right;\">\n",
       "      <th></th>\n",
       "      <th>month</th>\n",
       "      <th>grow_rate</th>\n",
       "    </tr>\n",
       "  </thead>\n",
       "  <tbody>\n",
       "    <tr>\n",
       "      <th>0</th>\n",
       "      <td>8</td>\n",
       "      <td>NaN</td>\n",
       "    </tr>\n",
       "    <tr>\n",
       "      <th>1</th>\n",
       "      <td>9</td>\n",
       "      <td>-0.196429</td>\n",
       "    </tr>\n",
       "    <tr>\n",
       "      <th>2</th>\n",
       "      <td>10</td>\n",
       "      <td>-0.111111</td>\n",
       "    </tr>\n",
       "  </tbody>\n",
       "</table>\n",
       "</div>"
      ],
      "text/plain": [
       "   month  grow_rate\n",
       "0      8        NaN\n",
       "1      9  -0.196429\n",
       "2     10  -0.111111"
      ]
     },
     "execution_count": 55,
     "metadata": {},
     "output_type": "execute_result"
    }
   ],
   "source": [
    "def get_sql() -> str:\n",
    "    return \"\"\"\n",
    "    SELECT s.month,\n",
    "           (s.current_rev-s.prior_rev)/s.prior_rev\n",
    "    FROM (\n",
    "        SELECT month,\n",
    "               SUM(revenue) AS current_rev,\n",
    "               LAG(SUM(revenue),1) OVER (ORDER BY month) AS prior_rev\n",
    "        FROM Orders\n",
    "        GROUP BY month\n",
    "        ORDER BY month\n",
    "    ) s\n",
    "    \"\"\"\n",
    "crsr.execute(get_sql())\n",
    "result = crsr.fetchall()\n",
    "pd.DataFrame(result, columns=['month', 'grow_rate'])"
   ]
  },
  {
   "cell_type": "markdown",
   "metadata": {},
   "source": [
    "Problem 39\n",
    "----\n",
    "You are given a dataframe containing student information, named df (shown below).\n",
    "Suppose you want to normalize each student's grade based on their age."
   ]
  },
  {
   "cell_type": "code",
   "execution_count": 56,
   "metadata": {},
   "outputs": [
    {
     "data": {
      "text/html": [
       "<div>\n",
       "<style scoped>\n",
       "    .dataframe tbody tr th:only-of-type {\n",
       "        vertical-align: middle;\n",
       "    }\n",
       "\n",
       "    .dataframe tbody tr th {\n",
       "        vertical-align: top;\n",
       "    }\n",
       "\n",
       "    .dataframe thead th {\n",
       "        text-align: right;\n",
       "    }\n",
       "</style>\n",
       "<table border=\"1\" class=\"dataframe\">\n",
       "  <thead>\n",
       "    <tr style=\"text-align: right;\">\n",
       "      <th></th>\n",
       "      <th>name</th>\n",
       "      <th>age</th>\n",
       "      <th>favorite_color</th>\n",
       "      <th>grade</th>\n",
       "    </tr>\n",
       "  </thead>\n",
       "  <tbody>\n",
       "    <tr>\n",
       "      <th>0</th>\n",
       "      <td>Willard Morris</td>\n",
       "      <td>20</td>\n",
       "      <td>blue</td>\n",
       "      <td>88</td>\n",
       "    </tr>\n",
       "    <tr>\n",
       "      <th>1</th>\n",
       "      <td>Al Jennings</td>\n",
       "      <td>19</td>\n",
       "      <td>blue</td>\n",
       "      <td>92</td>\n",
       "    </tr>\n",
       "    <tr>\n",
       "      <th>2</th>\n",
       "      <td>Omar Mullins</td>\n",
       "      <td>22</td>\n",
       "      <td>yellow</td>\n",
       "      <td>95</td>\n",
       "    </tr>\n",
       "    <tr>\n",
       "      <th>3</th>\n",
       "      <td>Spencer McDaniel</td>\n",
       "      <td>21</td>\n",
       "      <td>green</td>\n",
       "      <td>70</td>\n",
       "    </tr>\n",
       "  </tbody>\n",
       "</table>\n",
       "</div>"
      ],
      "text/plain": [
       "               name  age favorite_color  grade\n",
       "0    Willard Morris   20           blue     88\n",
       "1       Al Jennings   19           blue     92\n",
       "2      Omar Mullins   22         yellow     95\n",
       "3  Spencer McDaniel   21          green     70"
      ]
     },
     "execution_count": 56,
     "metadata": {},
     "output_type": "execute_result"
    }
   ],
   "source": [
    "import pandas as pd\n",
    "\n",
    "raw_data = {'name': ['Willard Morris', 'Al Jennings', 'Omar Mullins', 'Spencer McDaniel'],\n",
    "                'age': [20, 19, 22, 21],\n",
    "                'favorite_color': ['blue', 'blue', 'yellow', \"green\"],\n",
    "                'grade': [88, 92, 95, 70]}\n",
    "\n",
    "df = pd.DataFrame(raw_data)\n",
    "df.head()"
   ]
  },
  {
   "cell_type": "markdown",
   "metadata": {},
   "source": [
    "Write a function using Python Pandas that will add a new column to your dataframe containing a new grade normalized against the mean age of the students.\n"
   ]
  },
  {
   "cell_type": "code",
   "execution_count": 59,
   "metadata": {},
   "outputs": [],
   "source": [
    "df['grade_norm'] = df['grade']*(df['age']/df['age'].mean())"
   ]
  },
  {
   "cell_type": "code",
   "execution_count": 60,
   "metadata": {},
   "outputs": [
    {
     "data": {
      "text/html": [
       "<div>\n",
       "<style scoped>\n",
       "    .dataframe tbody tr th:only-of-type {\n",
       "        vertical-align: middle;\n",
       "    }\n",
       "\n",
       "    .dataframe tbody tr th {\n",
       "        vertical-align: top;\n",
       "    }\n",
       "\n",
       "    .dataframe thead th {\n",
       "        text-align: right;\n",
       "    }\n",
       "</style>\n",
       "<table border=\"1\" class=\"dataframe\">\n",
       "  <thead>\n",
       "    <tr style=\"text-align: right;\">\n",
       "      <th></th>\n",
       "      <th>name</th>\n",
       "      <th>age</th>\n",
       "      <th>favorite_color</th>\n",
       "      <th>grade</th>\n",
       "      <th>grade_norm</th>\n",
       "    </tr>\n",
       "  </thead>\n",
       "  <tbody>\n",
       "    <tr>\n",
       "      <th>0</th>\n",
       "      <td>Willard Morris</td>\n",
       "      <td>20</td>\n",
       "      <td>blue</td>\n",
       "      <td>88</td>\n",
       "      <td>85.853659</td>\n",
       "    </tr>\n",
       "    <tr>\n",
       "      <th>1</th>\n",
       "      <td>Al Jennings</td>\n",
       "      <td>19</td>\n",
       "      <td>blue</td>\n",
       "      <td>92</td>\n",
       "      <td>85.268293</td>\n",
       "    </tr>\n",
       "    <tr>\n",
       "      <th>2</th>\n",
       "      <td>Omar Mullins</td>\n",
       "      <td>22</td>\n",
       "      <td>yellow</td>\n",
       "      <td>95</td>\n",
       "      <td>101.951220</td>\n",
       "    </tr>\n",
       "    <tr>\n",
       "      <th>3</th>\n",
       "      <td>Spencer McDaniel</td>\n",
       "      <td>21</td>\n",
       "      <td>green</td>\n",
       "      <td>70</td>\n",
       "      <td>71.707317</td>\n",
       "    </tr>\n",
       "  </tbody>\n",
       "</table>\n",
       "</div>"
      ],
      "text/plain": [
       "               name  age favorite_color  grade  grade_norm\n",
       "0    Willard Morris   20           blue     88   85.853659\n",
       "1       Al Jennings   19           blue     92   85.268293\n",
       "2      Omar Mullins   22         yellow     95  101.951220\n",
       "3  Spencer McDaniel   21          green     70   71.707317"
      ]
     },
     "execution_count": 60,
     "metadata": {},
     "output_type": "execute_result"
    }
   ],
   "source": [
    "df"
   ]
  },
  {
   "cell_type": "markdown",
   "metadata": {},
   "source": [
    "Problem 38\n",
    "---------\n",
    "Suppose an individual is taxed 30% if earnings for a given week are >= \\\\$2,000. \n",
    "If earnings land < \\\\$2,000 for the week, the individual is taxed at a lower rate of 15%.\n",
    "\n",
    "Write a function using Python to calculate both the pre-tax and post-tax earnings for a given individual, with the ability to feed in the hourly wage and the weekly hours as inputs.\n",
    "\n",
    "For example, if an individual earns $55/hour and works for 40 hours, the function should return:\n",
    "\n",
    "Pre-tax earnings were 55 * 40 = \\\\$2,200 for the week.\n",
    "Post-tax earnings were \\\\$2,200*.7 (since we fall in higher tax bracket here) = \\\\$1,540 for the week"
   ]
  },
  {
   "cell_type": "code",
   "execution_count": 61,
   "metadata": {},
   "outputs": [],
   "source": [
    "def income_tax(rate, hrs):\n",
    "    pre_tax = rate*hrs\n",
    "    post_tax = pre_tax*(1-0.15)\n",
    "    \n",
    "    if pre_tax >= 2000:\n",
    "        post_tax = pre_tax*(1-0.3)\n",
    "    \n",
    "    return pre_tax, post_tax "
   ]
  },
  {
   "cell_type": "code",
   "execution_count": 62,
   "metadata": {},
   "outputs": [
    {
     "data": {
      "text/plain": [
       "(2200, 1540.0)"
      ]
     },
     "execution_count": 62,
     "metadata": {},
     "output_type": "execute_result"
    }
   ],
   "source": [
    "income_tax(55, 40)"
   ]
  },
  {
   "cell_type": "markdown",
   "metadata": {},
   "source": [
    "Problem 37\n",
    "----\n",
    "\n",
    "Suppose you're trying to understand how many managers you have per employee at Company XYZ. On your search to understand, you are given two tables: (1) managers and (2) employees. Each table has 1 column named id.\n",
    "\n",
    "Given this dataset, can you use SQL to find the employees that are also managers? Hint: given the table names as well as the single column name you should be able to write a full SQL query."
   ]
  },
  {
   "cell_type": "code",
   "execution_count": 1,
   "metadata": {},
   "outputs": [],
   "source": [
    "import sqlite3\n",
    "conn = sqlite3.connect(':memory:')\n",
    "crsr = conn.cursor()\n",
    "\n",
    "def create_table_sql() -> str:\n",
    "    return \"\"\"\n",
    "    CREATE TABLE managers (\n",
    "        id INTEGER\n",
    "    );\n",
    "    \n",
    "    CREATE TABLE employees (\n",
    "        id INTEGER\n",
    "    );\n",
    "    \"\"\"\n",
    "\n",
    "crsr.executescript(create_table_sql())\n",
    "conn.commit()"
   ]
  },
  {
   "cell_type": "code",
   "execution_count": 2,
   "metadata": {},
   "outputs": [],
   "source": [
    "def insert_data_sql() -> str:\n",
    "    return \"\"\"\n",
    "    INSERT or IGNORE INTO managers\n",
    "    (id)\n",
    "    VALUES\n",
    "    (1),\n",
    "    (2),\n",
    "    (3),\n",
    "    (4),\n",
    "    (5),\n",
    "    (6);\n",
    "    \n",
    "    INSERT or IGNORE INTO employees\n",
    "    (id)\n",
    "    VALUES\n",
    "    (1),\n",
    "    (2),\n",
    "    (3),\n",
    "    (4),\n",
    "    (5),\n",
    "    (6),\n",
    "    (40),\n",
    "    (23),\n",
    "    (21),\n",
    "    (400);\n",
    "    \"\"\"\n",
    "\n",
    "crsr.executescript(insert_data_sql())\n",
    "conn.commit()"
   ]
  },
  {
   "cell_type": "code",
   "execution_count": 3,
   "metadata": {},
   "outputs": [],
   "source": [
    "def get_sql() -> str:\n",
    "    return \"\"\"\n",
    "    SELECT e.*\n",
    "    FROM employees e\n",
    "    JOIN managers m\n",
    "    ON e.id = m.id\n",
    "    \"\"\"\n",
    "\n",
    "crsr.execute(get_sql())\n",
    "result = crsr.fetchall()"
   ]
  },
  {
   "cell_type": "code",
   "execution_count": 4,
   "metadata": {},
   "outputs": [
    {
     "data": {
      "text/plain": [
       "[(1,), (2,), (3,), (4,), (5,), (6,)]"
      ]
     },
     "execution_count": 4,
     "metadata": {},
     "output_type": "execute_result"
    }
   ],
   "source": [
    "result"
   ]
  },
  {
   "cell_type": "markdown",
   "metadata": {},
   "source": [
    "Problem 36\n",
    "--- \n",
    "Suppose you are playing a game with a fair die (e.g. no bias for any one side), and your expected payout based on the # you roll is shown the table below. If you have to pay $1 to play, is it worth the cost to play?\n",
    "\n",
    "\n",
    "|Roll |\tPayout|\n",
    "|-----|-------|\n",
    "6\t|\\\\$4\n",
    "5\t|\\\\$2\n",
    "4\t|\\\\$1\n",
    "3\t|\\\\$0\n",
    "2\t|\\\\$0\n",
    "1\t| \\\\$0"
   ]
  },
  {
   "cell_type": "code",
   "execution_count": 13,
   "metadata": {},
   "outputs": [
    {
     "name": "stdout",
     "output_type": "stream",
     "text": [
      "expected return is 0.16666666666666652, so yeah, it's still worth to play\n"
     ]
    }
   ],
   "source": [
    "import numpy as np\n",
    "outcomes = np.repeat(1/6,6)\n",
    "payouts = np.array([0,0,0,1,2,4])\n",
    "EX = np.sum(outcomes*payouts) - 1\n",
    "print(f'expected return is {EX}, so yeah, it\\'s still worth to play')"
   ]
  },
  {
   "cell_type": "markdown",
   "metadata": {},
   "source": [
    "Problem 35\n",
    "--- \n",
    "Suppose you have a dataframe, df, with the following records:"
   ]
  },
  {
   "cell_type": "code",
   "execution_count": 14,
   "metadata": {},
   "outputs": [
    {
     "data": {
      "text/html": [
       "<div>\n",
       "<style scoped>\n",
       "    .dataframe tbody tr th:only-of-type {\n",
       "        vertical-align: middle;\n",
       "    }\n",
       "\n",
       "    .dataframe tbody tr th {\n",
       "        vertical-align: top;\n",
       "    }\n",
       "\n",
       "    .dataframe thead th {\n",
       "        text-align: right;\n",
       "    }\n",
       "</style>\n",
       "<table border=\"1\" class=\"dataframe\">\n",
       "  <thead>\n",
       "    <tr style=\"text-align: right;\">\n",
       "      <th></th>\n",
       "      <th>name</th>\n",
       "      <th>age</th>\n",
       "      <th>favorite_color</th>\n",
       "      <th>grade</th>\n",
       "    </tr>\n",
       "  </thead>\n",
       "  <tbody>\n",
       "    <tr>\n",
       "      <th>0</th>\n",
       "      <td>Willard Morris</td>\n",
       "      <td>20</td>\n",
       "      <td>blue</td>\n",
       "      <td>88</td>\n",
       "    </tr>\n",
       "    <tr>\n",
       "      <th>1</th>\n",
       "      <td>Al Jennings</td>\n",
       "      <td>19</td>\n",
       "      <td>blue</td>\n",
       "      <td>92</td>\n",
       "    </tr>\n",
       "    <tr>\n",
       "      <th>2</th>\n",
       "      <td>Omar Mullins</td>\n",
       "      <td>22</td>\n",
       "      <td>yellow</td>\n",
       "      <td>95</td>\n",
       "    </tr>\n",
       "    <tr>\n",
       "      <th>3</th>\n",
       "      <td>Spencer McDaniel</td>\n",
       "      <td>21</td>\n",
       "      <td>green</td>\n",
       "      <td>70</td>\n",
       "    </tr>\n",
       "  </tbody>\n",
       "</table>\n",
       "</div>"
      ],
      "text/plain": [
       "               name  age favorite_color  grade\n",
       "0    Willard Morris   20           blue     88\n",
       "1       Al Jennings   19           blue     92\n",
       "2      Omar Mullins   22         yellow     95\n",
       "3  Spencer McDaniel   21          green     70"
      ]
     },
     "execution_count": 14,
     "metadata": {},
     "output_type": "execute_result"
    }
   ],
   "source": [
    "import pandas as pd\n",
    "\n",
    "raw_data = {'name': ['Willard Morris', 'Al Jennings', 'Omar Mullins', 'Spencer McDaniel'],\n",
    "                'age': [20, 19, 22, 21],\n",
    "                'favorite_color': ['blue', 'blue', 'yellow', \"green\"],\n",
    "                'grade': [88, 92, 95, 70]}\n",
    "\n",
    "df = pd.DataFrame(raw_data)\n",
    "df.head()"
   ]
  },
  {
   "cell_type": "markdown",
   "metadata": {},
   "source": [
    "The dataframe is showing information about students. Write code using Python Pandas to select the rows where the students' favorite color is blue or yellow and their grade is above 90."
   ]
  },
  {
   "cell_type": "code",
   "execution_count": 15,
   "metadata": {},
   "outputs": [
    {
     "data": {
      "text/html": [
       "<div>\n",
       "<style scoped>\n",
       "    .dataframe tbody tr th:only-of-type {\n",
       "        vertical-align: middle;\n",
       "    }\n",
       "\n",
       "    .dataframe tbody tr th {\n",
       "        vertical-align: top;\n",
       "    }\n",
       "\n",
       "    .dataframe thead th {\n",
       "        text-align: right;\n",
       "    }\n",
       "</style>\n",
       "<table border=\"1\" class=\"dataframe\">\n",
       "  <thead>\n",
       "    <tr style=\"text-align: right;\">\n",
       "      <th></th>\n",
       "      <th>name</th>\n",
       "      <th>age</th>\n",
       "      <th>favorite_color</th>\n",
       "      <th>grade</th>\n",
       "    </tr>\n",
       "  </thead>\n",
       "  <tbody>\n",
       "    <tr>\n",
       "      <th>1</th>\n",
       "      <td>Al Jennings</td>\n",
       "      <td>19</td>\n",
       "      <td>blue</td>\n",
       "      <td>92</td>\n",
       "    </tr>\n",
       "    <tr>\n",
       "      <th>2</th>\n",
       "      <td>Omar Mullins</td>\n",
       "      <td>22</td>\n",
       "      <td>yellow</td>\n",
       "      <td>95</td>\n",
       "    </tr>\n",
       "  </tbody>\n",
       "</table>\n",
       "</div>"
      ],
      "text/plain": [
       "           name  age favorite_color  grade\n",
       "1   Al Jennings   19           blue     92\n",
       "2  Omar Mullins   22         yellow     95"
      ]
     },
     "execution_count": 15,
     "metadata": {},
     "output_type": "execute_result"
    }
   ],
   "source": [
    "df.query(\"favorite_color in ['blue', 'yellow'] and grade > 90\")"
   ]
  },
  {
   "cell_type": "markdown",
   "metadata": {},
   "source": [
    "Problem 34\n",
    "---\n",
    "A prime number (or a prime) is a natural number greater than 1 that cannot be formed by multiplying two smaller natural numbers. Given a single #, n, write a function using Python to return whether or not the # is prime. Additionally, if the inputted # is prime, save it into an array, a."
   ]
  },
  {
   "cell_type": "code",
   "execution_count": 39,
   "metadata": {},
   "outputs": [],
   "source": [
    "def is_prime(num, a):\n",
    "    if num < 2:\n",
    "        return False\n",
    "    else:\n",
    "        for i in range(2,num):\n",
    "            if num%i == 0:\n",
    "                return False\n",
    "\n",
    "        a.append(num)\n",
    "        return True"
   ]
  },
  {
   "cell_type": "code",
   "execution_count": 40,
   "metadata": {},
   "outputs": [
    {
     "data": {
      "text/plain": [
       "False"
      ]
     },
     "execution_count": 40,
     "metadata": {},
     "output_type": "execute_result"
    }
   ],
   "source": [
    "a = []\n",
    "is_prime(234293423,a)"
   ]
  },
  {
   "cell_type": "code",
   "execution_count": 41,
   "metadata": {},
   "outputs": [
    {
     "data": {
      "text/plain": [
       "[]"
      ]
     },
     "execution_count": 41,
     "metadata": {},
     "output_type": "execute_result"
    }
   ],
   "source": [
    "a"
   ]
  },
  {
   "cell_type": "code",
   "execution_count": 42,
   "metadata": {},
   "outputs": [
    {
     "data": {
      "text/plain": [
       "True"
      ]
     },
     "execution_count": 42,
     "metadata": {},
     "output_type": "execute_result"
    }
   ],
   "source": [
    "is_prime(2,a)"
   ]
  },
  {
   "cell_type": "code",
   "execution_count": 43,
   "metadata": {},
   "outputs": [
    {
     "data": {
      "text/plain": [
       "[2]"
      ]
     },
     "execution_count": 43,
     "metadata": {},
     "output_type": "execute_result"
    }
   ],
   "source": [
    "a"
   ]
  },
  {
   "cell_type": "markdown",
   "metadata": {},
   "source": [
    "Problem 33\n",
    "----\n",
    "Suppose you're consulting for a school district, and the head of the school district thinks the students have above average intelligence. A random sample of thirty students have a mean IQ score of 112. Is there sufficient evidence to support the head's claim?\n",
    "\n",
    "You can assume the mean IQ score across the population of all students (e.g. including students outside the head's school district) is 100, with a standard deviation of 15."
   ]
  },
  {
   "cell_type": "code",
   "execution_count": 54,
   "metadata": {},
   "outputs": [
    {
     "name": "stdout",
     "output_type": "stream",
     "text": [
      "\n",
      "      hypothesis test:\n",
      "        null hypothesis H0: mu=0\n",
      "        alternative hypothesis H1: mu>0\n",
      "      Assume the alpha is 0.05, corresponding to a z-score of 1.645 (one tail)\n",
      "      the z score for our sample is (x-mu)/(std/sqrt(N)) = 4.382\n",
      "      which is significantly greater than 1.645. \n",
      "      Therefore, we can reject the null hypothesis, meaning there's enough evidence to support\n",
      "      the head's claim\n",
      "      \n"
     ]
    }
   ],
   "source": [
    "print(f\"\"\"\n",
    "      hypothesis test:\n",
    "        null hypothesis H0: mu=0\n",
    "        alternative hypothesis H1: mu>0\n",
    "      Assume the alpha is 0.05, corresponding to a z-score of 1.645 (one tail)\n",
    "      the z score for our sample is (x-mu)/(std/sqrt(N)) = {np.round((112-100)/(15/np.sqrt(30)),3)}\n",
    "      which is significantly greater than 1.645. \n",
    "      Therefore, we can reject the null hypothesis, meaning there's enough evidence to support\n",
    "      the head's claim\n",
    "      \"\"\")"
   ]
  },
  {
   "cell_type": "markdown",
   "metadata": {},
   "source": [
    "Problem 32\n",
    "----\n",
    "\n",
    "You're analyzing revenue for Company XYZ and want to understand what the revenue per employee was in 2017.\n",
    "\n",
    "Can you write a query to calculate revenue per employee by product area? Answer will be written in SQL for premium users.\n",
    "\n"
   ]
  },
  {
   "cell_type": "code",
   "execution_count": 16,
   "metadata": {},
   "outputs": [],
   "source": [
    "import sqlite3\n",
    "conn = sqlite3.connect(':memory:')\n",
    "crsr = conn.cursor()\n",
    "\n",
    "def create_table_sql() -> str:\n",
    "    return \"\"\"\n",
    "    CREATE TABLE employees (\n",
    "    employeeid INTEGER,\n",
    "    product_area VARCHAR(1024),\n",
    "    compensation INTEGER\n",
    "    );\n",
    "    \n",
    "    CREATE TABLE revenue (\n",
    "        date VARCHAR(1024),\n",
    "        product_area VARCHAR(1024),\n",
    "        revenue INTEGER\n",
    "    );\n",
    "    \"\"\"\n",
    "\n",
    "crsr.executescript(create_table_sql())\n",
    "conn.commit()"
   ]
  },
  {
   "cell_type": "code",
   "execution_count": 17,
   "metadata": {},
   "outputs": [],
   "source": [
    "def insert_data_sql() -> str:\n",
    "    return \"\"\"\n",
    "    INSERT or IGNORE INTO employees\n",
    "    (employeeid, product_area, compensation)\n",
    "    VALUES\n",
    "    (1, \"Online\", 100),\n",
    "    (2, \"Online\", 200),\n",
    "    (3, \"In_store\", 100),\n",
    "    (4, \"In_store\", 100),\n",
    "    (5, \"Online\", 100),\n",
    "    (6, \"Online\", 100);\n",
    "    \n",
    "    INSERT or IGNORE INTO revenue\n",
    "    (date, product_area, revenue)\n",
    "    VALUES\n",
    "    (\"2018-01-09\", \"Online\", 40),\n",
    "    (\"2017-03-04\", \"In_store\", 50),\n",
    "    (\"2017-06-03\", \"Online\", 100),\n",
    "    (\"2018-03-04\", \"In_store\", 150),\n",
    "    (\"2017-05-04\", \"Online\", 200),\n",
    "    (\"2017-09-04\", \"In_store\", 10);\n",
    "    \"\"\"\n",
    "\n",
    "crsr.executescript(insert_data_sql())\n",
    "conn.commit()"
   ]
  },
  {
   "cell_type": "code",
   "execution_count": 18,
   "metadata": {},
   "outputs": [
    {
     "data": {
      "text/html": [
       "<div>\n",
       "<style scoped>\n",
       "    .dataframe tbody tr th:only-of-type {\n",
       "        vertical-align: middle;\n",
       "    }\n",
       "\n",
       "    .dataframe tbody tr th {\n",
       "        vertical-align: top;\n",
       "    }\n",
       "\n",
       "    .dataframe thead th {\n",
       "        text-align: right;\n",
       "    }\n",
       "</style>\n",
       "<table border=\"1\" class=\"dataframe\">\n",
       "  <thead>\n",
       "    <tr style=\"text-align: right;\">\n",
       "      <th></th>\n",
       "      <th>product_area</th>\n",
       "      <th>revenue_per_employee</th>\n",
       "    </tr>\n",
       "  </thead>\n",
       "  <tbody>\n",
       "    <tr>\n",
       "      <th>0</th>\n",
       "      <td>In_store</td>\n",
       "      <td>30</td>\n",
       "    </tr>\n",
       "    <tr>\n",
       "      <th>1</th>\n",
       "      <td>Online</td>\n",
       "      <td>150</td>\n",
       "    </tr>\n",
       "  </tbody>\n",
       "</table>\n",
       "</div>"
      ],
      "text/plain": [
       "  product_area  revenue_per_employee\n",
       "0     In_store                    30\n",
       "1       Online                   150"
      ]
     },
     "execution_count": 18,
     "metadata": {},
     "output_type": "execute_result"
    }
   ],
   "source": [
    "def get_sql() -> str:\n",
    "    return \"\"\"\n",
    "    \n",
    "    SELECT e.product_area, \n",
    "           SUM(r.revenue) / COUNT(e.employeeid) AS revenue_per_employee\n",
    "    FROM employees e\n",
    "    JOIN revenue r\n",
    "    ON e.product_area = r.product_area\n",
    "    WHERE r.date >= \"2017-01-01\" AND\n",
    "          r.date <= \"2017-12-31\"\n",
    "    GROUP BY r.product_area\n",
    "    ORDER BY 2\n",
    "    \"\"\"\n",
    "\n",
    "crsr.execute(get_sql())\n",
    "revenue = crsr.fetchall()\n",
    "\n",
    "import pandas as pd\n",
    "pd.DataFrame(revenue, columns=['product_area', 'revenue_per_employee'])"
   ]
  },
  {
   "cell_type": "markdown",
   "metadata": {},
   "source": [
    "Problem 31 \n",
    "---\n",
    "Suppose you're analyzing a population of 100,000 people, and you're trying to understand life expectancy. Within this population of 100,000 people, 75% can expect to live to the age of 70, while 45% can expect to live to age 80. Given that a person is 70, what is the probability that they live to the age 80?"
   ]
  },
  {
   "cell_type": "markdown",
   "metadata": {},
   "source": [
    "By using Bayes' theorem, given the person is 70, the probability that he would live up to 80 would be \n",
    "P( living to 80 | living to 70) = P( living to 70 | living to 80) * P(living to 80) / P(living to 70)\n",
    "\n",
    "We already know that P(living to 80) = 0.45 and P(living to 70) = 0.75, also we know that if a person has already lived up to 80, the probability that he's going to live to 70 is 100%. Thus, we just need to plug in the numbers to get the final result. P( living to 80 | living to 70) = (1.0 * 0.45) / 0.75 = 0.6"
   ]
  },
  {
   "cell_type": "markdown",
   "metadata": {},
   "source": [
    "Problem 30\n",
    "--- \n",
    "Suppose you are given a dataframe (called df) of students, and you need to assign grades to each student. The table schema is as follows:\n",
    "\n"
   ]
  },
  {
   "cell_type": "code",
   "execution_count": 1,
   "metadata": {},
   "outputs": [
    {
     "data": {
      "text/html": [
       "<div>\n",
       "<style scoped>\n",
       "    .dataframe tbody tr th:only-of-type {\n",
       "        vertical-align: middle;\n",
       "    }\n",
       "\n",
       "    .dataframe tbody tr th {\n",
       "        vertical-align: top;\n",
       "    }\n",
       "\n",
       "    .dataframe thead th {\n",
       "        text-align: right;\n",
       "    }\n",
       "</style>\n",
       "<table border=\"1\" class=\"dataframe\">\n",
       "  <thead>\n",
       "    <tr style=\"text-align: right;\">\n",
       "      <th></th>\n",
       "      <th>name</th>\n",
       "      <th>age</th>\n",
       "      <th>favorite_color</th>\n",
       "      <th>grade</th>\n",
       "    </tr>\n",
       "  </thead>\n",
       "  <tbody>\n",
       "    <tr>\n",
       "      <th>0</th>\n",
       "      <td>Willard Morris</td>\n",
       "      <td>20</td>\n",
       "      <td>blue</td>\n",
       "      <td>88</td>\n",
       "    </tr>\n",
       "    <tr>\n",
       "      <th>1</th>\n",
       "      <td>Al Jennings</td>\n",
       "      <td>19</td>\n",
       "      <td>blue</td>\n",
       "      <td>92</td>\n",
       "    </tr>\n",
       "    <tr>\n",
       "      <th>2</th>\n",
       "      <td>Omar Mullins</td>\n",
       "      <td>22</td>\n",
       "      <td>yellow</td>\n",
       "      <td>95</td>\n",
       "    </tr>\n",
       "    <tr>\n",
       "      <th>3</th>\n",
       "      <td>Spencer McDaniel</td>\n",
       "      <td>21</td>\n",
       "      <td>green</td>\n",
       "      <td>70</td>\n",
       "    </tr>\n",
       "  </tbody>\n",
       "</table>\n",
       "</div>"
      ],
      "text/plain": [
       "               name  age favorite_color  grade\n",
       "0    Willard Morris   20           blue     88\n",
       "1       Al Jennings   19           blue     92\n",
       "2      Omar Mullins   22         yellow     95\n",
       "3  Spencer McDaniel   21          green     70"
      ]
     },
     "execution_count": 1,
     "metadata": {},
     "output_type": "execute_result"
    }
   ],
   "source": [
    "#libaries\n",
    "import pandas as pd\n",
    "\n",
    "raw_data = {'name': ['Willard Morris', 'Al Jennings', 'Omar Mullins', 'Spencer McDaniel'],\n",
    "                'age': [20, 19, 22, 21],\n",
    "                'favorite_color': ['blue', 'blue', 'yellow', \"green\"],\n",
    "                'grade': [88, 92, 95, 70]}\n",
    "\n",
    "df = pd.DataFrame(raw_data)\n",
    "df.head()"
   ]
  },
  {
   "cell_type": "markdown",
   "metadata": {},
   "source": [
    "You need to assign the following letter grades based on final_grade_pct in a new column named \"final_grade_letter\":\n",
    "\n",
    "- \\>90 - A\n",
    "- 81-90 - B\n",
    "- 71-80 - C\n",
    "- <70 - D\n",
    "\n",
    "Write a function using Python to loop through the table and assign the appropriate letter grades to each student, adding a new column to the existing dataframe, df."
   ]
  },
  {
   "cell_type": "code",
   "execution_count": 2,
   "metadata": {},
   "outputs": [],
   "source": [
    "def assign_grade(grade):\n",
    "    if grade > 90:\n",
    "        return 'A'\n",
    "    elif 81 <= grade <= 90:\n",
    "        return 'B'\n",
    "    elif 71 <= grade <= 80:\n",
    "        return 'C'\n",
    "    else:\n",
    "        return 'D'\n",
    "\n",
    "df['final_grade_letter'] = df['grade'].apply(assign_grade)"
   ]
  },
  {
   "cell_type": "code",
   "execution_count": 3,
   "metadata": {},
   "outputs": [
    {
     "data": {
      "text/html": [
       "<div>\n",
       "<style scoped>\n",
       "    .dataframe tbody tr th:only-of-type {\n",
       "        vertical-align: middle;\n",
       "    }\n",
       "\n",
       "    .dataframe tbody tr th {\n",
       "        vertical-align: top;\n",
       "    }\n",
       "\n",
       "    .dataframe thead th {\n",
       "        text-align: right;\n",
       "    }\n",
       "</style>\n",
       "<table border=\"1\" class=\"dataframe\">\n",
       "  <thead>\n",
       "    <tr style=\"text-align: right;\">\n",
       "      <th></th>\n",
       "      <th>name</th>\n",
       "      <th>age</th>\n",
       "      <th>favorite_color</th>\n",
       "      <th>grade</th>\n",
       "      <th>final_grade_letter</th>\n",
       "    </tr>\n",
       "  </thead>\n",
       "  <tbody>\n",
       "    <tr>\n",
       "      <th>0</th>\n",
       "      <td>Willard Morris</td>\n",
       "      <td>20</td>\n",
       "      <td>blue</td>\n",
       "      <td>88</td>\n",
       "      <td>B</td>\n",
       "    </tr>\n",
       "    <tr>\n",
       "      <th>1</th>\n",
       "      <td>Al Jennings</td>\n",
       "      <td>19</td>\n",
       "      <td>blue</td>\n",
       "      <td>92</td>\n",
       "      <td>A</td>\n",
       "    </tr>\n",
       "    <tr>\n",
       "      <th>2</th>\n",
       "      <td>Omar Mullins</td>\n",
       "      <td>22</td>\n",
       "      <td>yellow</td>\n",
       "      <td>95</td>\n",
       "      <td>A</td>\n",
       "    </tr>\n",
       "    <tr>\n",
       "      <th>3</th>\n",
       "      <td>Spencer McDaniel</td>\n",
       "      <td>21</td>\n",
       "      <td>green</td>\n",
       "      <td>70</td>\n",
       "      <td>D</td>\n",
       "    </tr>\n",
       "  </tbody>\n",
       "</table>\n",
       "</div>"
      ],
      "text/plain": [
       "               name  age favorite_color  grade final_grade_letter\n",
       "0    Willard Morris   20           blue     88                  B\n",
       "1       Al Jennings   19           blue     92                  A\n",
       "2      Omar Mullins   22         yellow     95                  A\n",
       "3  Spencer McDaniel   21          green     70                  D"
      ]
     },
     "execution_count": 3,
     "metadata": {},
     "output_type": "execute_result"
    }
   ],
   "source": [
    "df"
   ]
  },
  {
   "cell_type": "markdown",
   "metadata": {},
   "source": [
    "Problem 29\n",
    "---\n",
    "There are a few ways we can score in American Football:\n",
    "\n",
    "- 1 point - After scoring a touchdown, the team can choose to score a field goal\n",
    "- 2 points - (1) after scoring touchdown, a team can choose to score a conversion, when the team attempts to score a secondary touchdown or (2) an uncommon way to score, a safety is score when the opposing team causes the ball to become dead\n",
    "- 3 points - If no touchdown is scored on the possession, a team can attempt to make a field goal\n",
    "- 6 points - Awarded for a touchdown\n",
    "\n",
    "Given the above, let's assume the potential point values for American Football are:\n",
    "- 2 points - safety\n",
    "- 3 points - only field goal\n",
    "- 6 points - only touchdown\n",
    "- 7 points - touchdown + field goal\n",
    "- 8 points - touchdown + conversion\n",
    "\n",
    "\n",
    "Given a score value, can you write a function that lists the possible ways the score could have been achieved?\n",
    "For example, if you're given the score value 10, the potential values are:\n",
    "\n",
    "- 8 points (touchdown + conversion) + 2 points (safety)\n",
    "- 6 points (only touchdown) + 2x2 points (safety)\n",
    "- 7 points (touchdown + field goal) + 3 points (only field goal)\n",
    "- 5x2 points (safety)\n",
    "- 2x2 points (safety) + 2x3 points (only field goal)"
   ]
  },
  {
   "cell_type": "code",
   "execution_count": 14,
   "metadata": {},
   "outputs": [],
   "source": [
    "import numpy as np\n",
    "def possible_ways(score):\n",
    "    possible_results = []\n",
    "    outcomes = np.array([2,3,6,7,8])\n",
    "    max_iters = np.floor(score/outcomes).astype(int)+1\n",
    "    \n",
    "    for x1 in range(max_iters[0]):\n",
    "        for x2 in range(max_iters[1]):\n",
    "            for x3 in range(max_iters[2]):\n",
    "                for x4 in range(max_iters[3]):\n",
    "                    for x5 in range(max_iters[4]):\n",
    "                        if 2*x1+3*x2+6*x3+7*x4+8*x5 == score:\n",
    "                            possible_results.append([x1, x2, x3, x4, x5])\n",
    "                        \n",
    "    return possible_results"
   ]
  },
  {
   "cell_type": "code",
   "execution_count": 17,
   "metadata": {},
   "outputs": [
    {
     "data": {
      "text/plain": [
       "[[0, 1, 0, 1, 0],\n",
       " [1, 0, 0, 0, 1],\n",
       " [2, 0, 1, 0, 0],\n",
       " [2, 2, 0, 0, 0],\n",
       " [5, 0, 0, 0, 0]]"
      ]
     },
     "execution_count": 17,
     "metadata": {},
     "output_type": "execute_result"
    }
   ],
   "source": [
    "possible_ways(10)"
   ]
  },
  {
   "cell_type": "markdown",
   "metadata": {},
   "source": [
    "Problem 28\n",
    " ---\n",
    " \n",
    "Suppose you're trying to figure out your chances of winning the lottery. The specific lottery you're interested in has 49 balls, each showing a single number. To win the jackpot you need to match 6 balls to win (note that order does not matter).\n",
    "\n",
    "What is the probability that you can win the jackpot, given you buy 1 ticket?\n",
    "\n",
    "What if you buy 3 lottery tickets?\n",
    "\n"
   ]
  },
  {
   "cell_type": "code",
   "execution_count": 19,
   "metadata": {},
   "outputs": [
    {
     "name": "stdout",
     "output_type": "stream",
     "text": [
      "probability of winning the jackpot with 1 ticket is 3.398214049727199e-05\n"
     ]
    }
   ],
   "source": [
    "### since the order of the ball does not matter \n",
    "p_1ball = (6/49)*(6/48)*(6/47)*(6/46)*(6/45)\n",
    "print(f'probability of winning the jackpot with 1 ticket is {p_1ball}')"
   ]
  },
  {
   "cell_type": "code",
   "execution_count": 20,
   "metadata": {},
   "outputs": [
    {
     "name": "stdout",
     "output_type": "stream",
     "text": [
      "probability of winning the jackpot with 3 tickets is 0.00010194642149181595\n"
     ]
    }
   ],
   "source": [
    "### since the three tickets are independent\n",
    "p_3ball = p_1ball*3\n",
    "print(f'probability of winning the jackpot with 3 tickets is {p_3ball}')"
   ]
  },
  {
   "cell_type": "markdown",
   "metadata": {},
   "source": [
    "Problem 27\n",
    "---\n",
    "\n",
    "Suppose you work for Airbnb as an analyst. A team has come to you asking which cities make the highest revenue for the company in 2017. Can you write a SQL query to answer the question?\n",
    "\n",
    "You have one table with property location information and another with stay information. The schema each table is shown below:"
   ]
  },
  {
   "cell_type": "code",
   "execution_count": 1,
   "metadata": {},
   "outputs": [],
   "source": [
    "import sqlite3\n",
    "conn = sqlite3.connect(':memory:')\n",
    "crsr = conn.cursor()\n",
    "\n",
    "def create_table_sql() -> str:\n",
    "    return \"\"\"\n",
    "    CREATE TABLE property_location_info (\n",
    "    property_id INTEGER,\n",
    "    country VARCHAR(1024),\n",
    "    city_name VARCHAR(1024),\n",
    "    subregion_name VARCHAR(1024),\n",
    "    address VARCHAR(1024)\n",
    "    );\n",
    "    \n",
    "    CREATE TABLE stays_info (\n",
    "        guest_id INTEGER,\n",
    "        property_id INTEGER,\n",
    "        host_id INTEGER,\n",
    "        revenue INTEGER,\n",
    "        date_start VARCHAR(1024),\n",
    "        date_end VARCHAR(1024),\n",
    "        stay_length INTEGER,\n",
    "        airbnb_revenue INTEGER\n",
    "    );\n",
    "    \"\"\"\n",
    "\n",
    "crsr.executescript(create_table_sql())\n",
    "conn.commit()"
   ]
  },
  {
   "cell_type": "code",
   "execution_count": 2,
   "metadata": {},
   "outputs": [],
   "source": [
    "def insert_data_sql() -> str:\n",
    "    return \"\"\"\n",
    "    INSERT or IGNORE INTO property_location_info\n",
    "    (property_id, country, city_name, subregion_name, address)\n",
    "    VALUES\n",
    "    (1, \"US\", \"New York\", \"New York\", \"asadasda\"),\n",
    "    (2, \"US\", \"New York\", \"New York\", \"ASDASFA\"),\n",
    "    (3, \"US\", \"Seatle\", \"Washington\", \"asdasdasd\"),\n",
    "    (4, \"US\", \"San Francisco\", \"California\", \"asd\"),\n",
    "    (5, \"US\", \"New York\", \"New York\", \"asdasd\"),\n",
    "    (6, \"US\", \"Los Angeles\", \"California\", \"asdasf\");\n",
    "    \n",
    "    INSERT or IGNORE INTO stays_info\n",
    "    (guest_id, property_id, host_id, revenue, date_start, date_end, stay_length, airbnb_revenue)\n",
    "    VALUES\n",
    "    (1, 1, 111, 200, \"2017-01-09\", \"2017-01-12\", 4, 150),\n",
    "    (2, 2, 222, 300, \"2018-09-10\", \"2018-09-12\", 3, 200),\n",
    "    (3, 3, 333, 200, \"2017-04-12\", \"2017-04-15\", 4, 160),\n",
    "    (4, 4, 111, 50, \"2019-01-02\", \"2019-01-06\", 5, 30),\n",
    "    (5, 5, 222, 150, \"2017-12-10\", \"2017-12-13\", 4, 120),\n",
    "    (6, 6, 333, 600, \"2018-10-08\", \"2018-10-11\", 4, 450);\n",
    "    \"\"\"\n",
    "\n",
    "crsr.executescript(insert_data_sql())\n",
    "conn.commit()"
   ]
  },
  {
   "cell_type": "code",
   "execution_count": 19,
   "metadata": {},
   "outputs": [],
   "source": [
    "def get_sql() -> str:\n",
    "    return \"\"\"\n",
    "        SELECT sub.city_unique,\n",
    "               MAX(sub.city_revenue) AS max_revenue\n",
    "        FROM (\n",
    "            SELECT p.city_name || \", \" || p.subregion_name || \", \" || p.country as city_unique,\n",
    "               SUM(s.airbnb_revenue) AS city_revenue\n",
    "            FROM property_location_info p\n",
    "            JOIN stays_info s\n",
    "            ON p.property_id = s.property_id\n",
    "            WHERE substr(s.date_start, 1, 4) = \"2017\"\n",
    "            GROUP BY p.city_name\n",
    "        ) sub\n",
    "    \"\"\"\n",
    "\n",
    "crsr.execute(get_sql())\n",
    "results = crsr.fetchall()"
   ]
  },
  {
   "cell_type": "code",
   "execution_count": 20,
   "metadata": {},
   "outputs": [
    {
     "data": {
      "text/plain": [
       "[('New York, New York, US', 270)]"
      ]
     },
     "execution_count": 20,
     "metadata": {},
     "output_type": "execute_result"
    }
   ],
   "source": [
    "results"
   ]
  },
  {
   "cell_type": "markdown",
   "metadata": {},
   "source": [
    "Problem 26\n",
    "--- \n",
    "Is drawing a red card and drawing an ace independent? You can read more about a standard card deck here. Hint: Drawing an ace (event A) and drawing a red card (event B) are two separate events -- think of a way to prove (using probability theory) that knowing whether event A occurred impacts the probability of event B occuring."
   ]
  },
  {
   "cell_type": "code",
   "execution_count": 21,
   "metadata": {},
   "outputs": [],
   "source": [
    "# probability of drawing an ace\n",
    "P_ace = 4/52\n",
    "P_red = 1/2\n",
    "P_red_n_ace = 2/52\n",
    "assert P_ace*P_red == P_red_n_ace"
   ]
  },
  {
   "cell_type": "code",
   "execution_count": 22,
   "metadata": {},
   "outputs": [
    {
     "name": "stdout",
     "output_type": "stream",
     "text": [
      "P(ace)*P(red) = P(ace and red), therefore, red is independent from ace.\n"
     ]
    }
   ],
   "source": [
    "print(f'P(ace)*P(red) = P(ace and red), therefore, red is independent from ace.')"
   ]
  },
  {
   "cell_type": "markdown",
   "metadata": {},
   "source": [
    "Problem 25\n",
    "--- \n",
    "Your team at Apple released a new feature that collects feedback when an app launches. As part of the Alpha Launch for testing, the feedback consists of 1 question within a dialog box that asks \"Would you like to give {App Name} your credit card number?\", with potential answers being \"Yes\" and \"No\".\n",
    "\n",
    "This data is logged within a table named 'dialogbox_feedback' with the following schema:"
   ]
  },
  {
   "cell_type": "code",
   "execution_count": 2,
   "metadata": {},
   "outputs": [
    {
     "data": {
      "text/html": [
       "<div>\n",
       "<style scoped>\n",
       "    .dataframe tbody tr th:only-of-type {\n",
       "        vertical-align: middle;\n",
       "    }\n",
       "\n",
       "    .dataframe tbody tr th {\n",
       "        vertical-align: top;\n",
       "    }\n",
       "\n",
       "    .dataframe thead th {\n",
       "        text-align: right;\n",
       "    }\n",
       "</style>\n",
       "<table border=\"1\" class=\"dataframe\">\n",
       "  <thead>\n",
       "    <tr style=\"text-align: right;\">\n",
       "      <th></th>\n",
       "      <th>time</th>\n",
       "      <th>user_id</th>\n",
       "      <th>app_id</th>\n",
       "      <th>app_name</th>\n",
       "      <th>event</th>\n",
       "    </tr>\n",
       "  </thead>\n",
       "  <tbody>\n",
       "    <tr>\n",
       "      <th>0</th>\n",
       "      <td>10</td>\n",
       "      <td>10</td>\n",
       "      <td>20</td>\n",
       "      <td>candy</td>\n",
       "      <td>yes</td>\n",
       "    </tr>\n",
       "    <tr>\n",
       "      <th>1</th>\n",
       "      <td>20</td>\n",
       "      <td>19</td>\n",
       "      <td>13</td>\n",
       "      <td>uber</td>\n",
       "      <td>yes</td>\n",
       "    </tr>\n",
       "    <tr>\n",
       "      <th>2</th>\n",
       "      <td>10</td>\n",
       "      <td>22</td>\n",
       "      <td>23</td>\n",
       "      <td>candy</td>\n",
       "      <td>no</td>\n",
       "    </tr>\n",
       "    <tr>\n",
       "      <th>3</th>\n",
       "      <td>30</td>\n",
       "      <td>21</td>\n",
       "      <td>45</td>\n",
       "      <td>naruto</td>\n",
       "      <td>yes</td>\n",
       "    </tr>\n",
       "  </tbody>\n",
       "</table>\n",
       "</div>"
      ],
      "text/plain": [
       "   time  user_id  app_id app_name event\n",
       "0    10       10      20    candy   yes\n",
       "1    20       19      13     uber   yes\n",
       "2    10       22      23    candy    no\n",
       "3    30       21      45   naruto   yes"
      ]
     },
     "execution_count": 2,
     "metadata": {},
     "output_type": "execute_result"
    }
   ],
   "source": [
    "#libaries\n",
    "import pandas as pd\n",
    "import numpy as np\n",
    "raw_data = {'time': [10, 20, 10, 30],\n",
    "            'user_id': [10, 19, 22, 21],\n",
    "            'app_id': [20, 13, 23, 45],\n",
    "            'app_name': ['candy', 'uber', 'candy', 'naruto'],\n",
    "            'event': ['yes', 'yes', 'no', 'yes']}\n",
    "\n",
    "df = pd.DataFrame(raw_data)\n",
    "df.head()"
   ]
  },
  {
   "cell_type": "markdown",
   "metadata": {},
   "source": [
    "Question: A Product Manager asked you to give an update on how the Alpha Launch is going. You decide to aggregate (e.g. pivot) the events by each app to provide a quick summary. Write the aggregation using Python (Pandas).\n",
    "\n"
   ]
  },
  {
   "cell_type": "code",
   "execution_count": 7,
   "metadata": {},
   "outputs": [
    {
     "data": {
      "text/html": [
       "<div>\n",
       "<style scoped>\n",
       "    .dataframe tbody tr th:only-of-type {\n",
       "        vertical-align: middle;\n",
       "    }\n",
       "\n",
       "    .dataframe tbody tr th {\n",
       "        vertical-align: top;\n",
       "    }\n",
       "\n",
       "    .dataframe thead th {\n",
       "        text-align: right;\n",
       "    }\n",
       "</style>\n",
       "<table border=\"1\" class=\"dataframe\">\n",
       "  <thead>\n",
       "    <tr style=\"text-align: right;\">\n",
       "      <th></th>\n",
       "      <th></th>\n",
       "      <th></th>\n",
       "      <th>time</th>\n",
       "      <th>user_id</th>\n",
       "    </tr>\n",
       "    <tr>\n",
       "      <th>app_name</th>\n",
       "      <th>app_id</th>\n",
       "      <th>event</th>\n",
       "      <th></th>\n",
       "      <th></th>\n",
       "    </tr>\n",
       "  </thead>\n",
       "  <tbody>\n",
       "    <tr>\n",
       "      <th rowspan=\"2\" valign=\"top\">candy</th>\n",
       "      <th>20</th>\n",
       "      <th>yes</th>\n",
       "      <td>1</td>\n",
       "      <td>1</td>\n",
       "    </tr>\n",
       "    <tr>\n",
       "      <th>23</th>\n",
       "      <th>no</th>\n",
       "      <td>1</td>\n",
       "      <td>1</td>\n",
       "    </tr>\n",
       "    <tr>\n",
       "      <th>naruto</th>\n",
       "      <th>45</th>\n",
       "      <th>yes</th>\n",
       "      <td>1</td>\n",
       "      <td>1</td>\n",
       "    </tr>\n",
       "    <tr>\n",
       "      <th>uber</th>\n",
       "      <th>13</th>\n",
       "      <th>yes</th>\n",
       "      <td>1</td>\n",
       "      <td>1</td>\n",
       "    </tr>\n",
       "  </tbody>\n",
       "</table>\n",
       "</div>"
      ],
      "text/plain": [
       "                       time  user_id\n",
       "app_name app_id event               \n",
       "candy    20     yes       1        1\n",
       "         23     no        1        1\n",
       "naruto   45     yes       1        1\n",
       "uber     13     yes       1        1"
      ]
     },
     "execution_count": 7,
     "metadata": {},
     "output_type": "execute_result"
    }
   ],
   "source": [
    "df.pivot_table(df, index=['app_name', 'app_id', 'event'], aggfunc='count')"
   ]
  },
  {
   "cell_type": "code",
   "execution_count": null,
   "metadata": {},
   "outputs": [],
   "source": []
  }
 ],
 "metadata": {
  "kernelspec": {
   "display_name": "Python 3",
   "language": "python",
   "name": "python3"
  },
  "language_info": {
   "codemirror_mode": {
    "name": "ipython",
    "version": 3
   },
   "file_extension": ".py",
   "mimetype": "text/x-python",
   "name": "python",
   "nbconvert_exporter": "python",
   "pygments_lexer": "ipython3",
   "version": "3.7.3"
  }
 },
 "nbformat": 4,
 "nbformat_minor": 2
}
